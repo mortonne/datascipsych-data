{
 "cells": [
  {
   "cell_type": "code",
   "execution_count": 1,
   "metadata": {},
   "outputs": [],
   "source": [
    "import numpy as np\n",
    "from scipy import stats\n",
    "import polars as pl"
   ]
  },
  {
   "cell_type": "code",
   "execution_count": null,
   "metadata": {},
   "outputs": [],
   "source": [
    "n_subj = 50\n",
    "trial_types = [\"target\", \"lure\"]\n",
    "item_types = [\"word\", \"picture\"]\n",
    "n_type = 2\n",
    "n_item = 2\n",
    "n_time = 3\n",
    "study_times = [1, 2, 4]\n",
    "time_lure_strength = [0, -0.2, -0.3]\n",
    "time_target_strength = [1, 1.2, 1.3]\n",
    "item_lure_dev = [0.1, -0.1]\n",
    "item_target_dev = [-0.1, 0.1]\n",
    "n_trial = 100"
   ]
  },
  {
   "cell_type": "code",
   "execution_count": null,
   "metadata": {},
   "outputs": [
    {
     "data": {
      "text/html": [
       "<div><style>\n",
       ".dataframe > thead > tr,\n",
       ".dataframe > tbody > tr {\n",
       "  text-align: right;\n",
       "  white-space: pre-wrap;\n",
       "}\n",
       "</style>\n",
       "<small>shape: (60_000, 6)</small><table border=\"1\" class=\"dataframe\"><thead><tr><th>subject</th><th>trial</th><th>study_time</th><th>item_type</th><th>trial_type</th><th>response</th></tr><tr><td>str</td><td>i64</td><td>i64</td><td>str</td><td>str</td><td>i64</td></tr></thead><tbody><tr><td>&quot;subj01&quot;</td><td>1</td><td>1</td><td>&quot;word&quot;</td><td>&quot;target&quot;</td><td>0</td></tr><tr><td>&quot;subj01&quot;</td><td>2</td><td>1</td><td>&quot;word&quot;</td><td>&quot;target&quot;</td><td>0</td></tr><tr><td>&quot;subj01&quot;</td><td>3</td><td>1</td><td>&quot;word&quot;</td><td>&quot;target&quot;</td><td>1</td></tr><tr><td>&quot;subj01&quot;</td><td>4</td><td>1</td><td>&quot;word&quot;</td><td>&quot;target&quot;</td><td>1</td></tr><tr><td>&quot;subj01&quot;</td><td>5</td><td>1</td><td>&quot;word&quot;</td><td>&quot;target&quot;</td><td>1</td></tr><tr><td>&hellip;</td><td>&hellip;</td><td>&hellip;</td><td>&hellip;</td><td>&hellip;</td><td>&hellip;</td></tr><tr><td>&quot;subj50&quot;</td><td>1196</td><td>4</td><td>&quot;picture&quot;</td><td>&quot;lure&quot;</td><td>0</td></tr><tr><td>&quot;subj50&quot;</td><td>1197</td><td>4</td><td>&quot;picture&quot;</td><td>&quot;lure&quot;</td><td>0</td></tr><tr><td>&quot;subj50&quot;</td><td>1198</td><td>4</td><td>&quot;picture&quot;</td><td>&quot;lure&quot;</td><td>0</td></tr><tr><td>&quot;subj50&quot;</td><td>1199</td><td>4</td><td>&quot;picture&quot;</td><td>&quot;lure&quot;</td><td>0</td></tr><tr><td>&quot;subj50&quot;</td><td>1200</td><td>4</td><td>&quot;picture&quot;</td><td>&quot;lure&quot;</td><td>0</td></tr></tbody></table></div>"
      ],
      "text/plain": [
       "shape: (60_000, 6)\n",
       "┌─────────┬───────┬────────────┬───────────┬────────────┬──────────┐\n",
       "│ subject ┆ trial ┆ study_time ┆ item_type ┆ trial_type ┆ response │\n",
       "│ ---     ┆ ---   ┆ ---        ┆ ---       ┆ ---        ┆ ---      │\n",
       "│ str     ┆ i64   ┆ i64        ┆ str       ┆ str        ┆ i64      │\n",
       "╞═════════╪═══════╪════════════╪═══════════╪════════════╪══════════╡\n",
       "│ subj01  ┆ 1     ┆ 1          ┆ word      ┆ target     ┆ 0        │\n",
       "│ subj01  ┆ 2     ┆ 1          ┆ word      ┆ target     ┆ 0        │\n",
       "│ subj01  ┆ 3     ┆ 1          ┆ word      ┆ target     ┆ 1        │\n",
       "│ subj01  ┆ 4     ┆ 1          ┆ word      ┆ target     ┆ 1        │\n",
       "│ subj01  ┆ 5     ┆ 1          ┆ word      ┆ target     ┆ 1        │\n",
       "│ …       ┆ …     ┆ …          ┆ …         ┆ …          ┆ …        │\n",
       "│ subj50  ┆ 1196  ┆ 4          ┆ picture   ┆ lure       ┆ 0        │\n",
       "│ subj50  ┆ 1197  ┆ 4          ┆ picture   ┆ lure       ┆ 0        │\n",
       "│ subj50  ┆ 1198  ┆ 4          ┆ picture   ┆ lure       ┆ 0        │\n",
       "│ subj50  ┆ 1199  ┆ 4          ┆ picture   ┆ lure       ┆ 0        │\n",
       "│ subj50  ┆ 1200  ┆ 4          ┆ picture   ┆ lure       ┆ 0        │\n",
       "└─────────┴───────┴────────────┴───────────┴────────────┴──────────┘"
      ]
     },
     "execution_count": 3,
     "metadata": {},
     "output_type": "execute_result"
    }
   ],
   "source": [
    "rng = np.random.default_rng(1)\n",
    "subj_time_dev = rng.normal(loc=0, scale=0.1, size=(n_subj, n_time))\n",
    "subj_item_dev = rng.normal(loc=0, scale=0.1, size=(n_subj, n_item))\n",
    "subj_target_dev = rng.normal(loc=0, scale=0.1, size=n_subj)\n",
    "subj_lure_dev = rng.normal(loc=0, scale=0.1, size=n_subj)\n",
    "subj_time_target_dev = rng.normal(loc=0, scale=0.05, size=(n_subj, n_time))\n",
    "subj_time_lure_dev = rng.normal(loc=0, scale=0.05, size=(n_subj, n_time))\n",
    "subj_item_target_dev = rng.normal(loc=0, scale=0.05, size=(n_subj, n_item))\n",
    "subj_item_lure_dev = rng.normal(loc=0, scale=0.05, size=(n_subj, n_item))\n",
    "d = {\n",
    "    \"subject\": [],\n",
    "    \"trial\": [],\n",
    "    \"study_time\": [],\n",
    "    \"item_type\": [],\n",
    "    \"trial_type\": [],\n",
    "    \"response\": [],\n",
    "}\n",
    "sd = 0.8\n",
    "criterion = [0.5, 0.6, 0.7]\n",
    "for i in range(n_subj):\n",
    "    trial = 0\n",
    "    for j in range(n_time):\n",
    "        for k in range(n_item):\n",
    "            mu_lure = (\n",
    "                time_lure_strength[j]\n",
    "                + item_lure_dev[k]\n",
    "                + subj_time_dev[i, j]\n",
    "                + subj_item_dev[i, k]\n",
    "                + subj_lure_dev[i]\n",
    "                + subj_time_lure_dev[i, j]\n",
    "                + subj_item_lure_dev[i, k]\n",
    "            )\n",
    "            mu_target = (\n",
    "                time_target_strength[j]\n",
    "                + item_target_dev[k]\n",
    "                + subj_time_dev[i, j]\n",
    "                + subj_item_dev[i, k]\n",
    "                + subj_target_dev[i]\n",
    "                + subj_time_target_dev[i, j]\n",
    "                + subj_item_target_dev[i, k]\n",
    "            )\n",
    "            lure_strength = rng.normal(loc=mu_lure, scale=sd, size=n_trial)\n",
    "            target_strength = rng.normal(loc=mu_target, scale=sd, size=n_trial)\n",
    "            for l in range(n_type):\n",
    "                trial_type = trial_types[l]\n",
    "                if trial_type == \"target\":\n",
    "                    response = np.where(target_strength > criterion[j], 1, 0)\n",
    "                else:\n",
    "                    response = np.where(lure_strength > criterion[j], 1, 0)\n",
    "                for m in range(n_trial):\n",
    "                    trial += 1\n",
    "                    d[\"subject\"].append(f\"subj{i + 1:02}\")\n",
    "                    d[\"trial\"].append(trial)\n",
    "                    d[\"study_time\"].append(study_times[j])\n",
    "                    d[\"item_type\"].append(item_types[k])\n",
    "                    d[\"trial_type\"].append(trial_type)\n",
    "                    d[\"response\"].append(response[m])\n",
    "df = pl.DataFrame(d)\n",
    "df.write_csv(\"gen_recog.csv\")\n",
    "df"
   ]
  }
 ],
 "metadata": {
  "kernelspec": {
   "display_name": ".venv",
   "language": "python",
   "name": "python3"
  },
  "language_info": {
   "codemirror_mode": {
    "name": "ipython",
    "version": 3
   },
   "file_extension": ".py",
   "mimetype": "text/x-python",
   "name": "python",
   "nbconvert_exporter": "python",
   "pygments_lexer": "ipython3",
   "version": "3.11.11"
  }
 },
 "nbformat": 4,
 "nbformat_minor": 2
}
